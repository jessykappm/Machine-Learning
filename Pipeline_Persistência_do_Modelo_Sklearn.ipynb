{
  "nbformat": 4,
  "nbformat_minor": 0,
  "metadata": {
    "colab": {
      "provenance": [],
      "include_colab_link": true
    },
    "kernelspec": {
      "name": "python3",
      "display_name": "Python 3"
    },
    "language_info": {
      "name": "python"
    }
  },
  "cells": [
    {
      "cell_type": "markdown",
      "metadata": {
        "id": "view-in-github",
        "colab_type": "text"
      },
      "source": [
        "<a href=\"https://colab.research.google.com/github/jessykappm/Machine-Learning/blob/main/Pipeline_Persist%C3%AAncia_do_Modelo_Sklearn.ipynb\" target=\"_parent\"><img src=\"https://colab.research.google.com/assets/colab-badge.svg\" alt=\"Open In Colab\"/></a>"
      ]
    },
    {
      "cell_type": "markdown",
      "source": [
        "###Criando um Pipeline"
      ],
      "metadata": {
        "id": "OpbOYtWHR_xK"
      }
    },
    {
      "cell_type": "code",
      "execution_count": 1,
      "metadata": {
        "id": "f0IdbLzkFrJ5"
      },
      "outputs": [],
      "source": [
        "from sklearn import datasets\n",
        "from sklearn.model_selection import train_test_split\n",
        "from sklearn.preprocessing import StandardScaler\n",
        "from sklearn.neighbors import KNeighborsClassifier\n",
        "\n",
        "from sklearn.pipeline import Pipeline\n"
      ]
    },
    {
      "cell_type": "code",
      "source": [
        "dataset = datasets.load_iris()\n",
        "X, y = dataset.data, dataset.target\n",
        "\n",
        "X_train, X_test, y_train, y_test = train_test_split(X, y)\n"
      ],
      "metadata": {
        "id": "YgPZapJ5HsGB"
      },
      "execution_count": 2,
      "outputs": []
    },
    {
      "cell_type": "code",
      "source": [
        "clf = Pipeline([(\"scaler\", StandardScaler()),(\"knn\", KNeighborsClassifier(n_neighbors=5))])"
      ],
      "metadata": {
        "id": "1UA8SFxRHymr"
      },
      "execution_count": 3,
      "outputs": []
    },
    {
      "cell_type": "code",
      "source": [
        "clf.fit(X_train, y_train)\n"
      ],
      "metadata": {
        "id": "cSngTSo1JRwP",
        "colab": {
          "base_uri": "https://localhost:8080/"
        },
        "outputId": "e4cad5f8-e3d3-4a2c-8c5f-789b12b40fdb"
      },
      "execution_count": 4,
      "outputs": [
        {
          "output_type": "execute_result",
          "data": {
            "text/plain": [
              "Pipeline(steps=[('scaler', StandardScaler()), ('knn', KNeighborsClassifier())])"
            ]
          },
          "metadata": {},
          "execution_count": 4
        }
      ]
    },
    {
      "cell_type": "code",
      "source": [
        "print(clf.score(X_test, y_test))"
      ],
      "metadata": {
        "id": "fy8SvqehMjxP",
        "colab": {
          "base_uri": "https://localhost:8080/"
        },
        "outputId": "25fdcad4-9db9-4345-fffa-18b245518ddd"
      },
      "execution_count": 5,
      "outputs": [
        {
          "output_type": "stream",
          "name": "stdout",
          "text": [
            "0.9210526315789473\n"
          ]
        }
      ]
    },
    {
      "cell_type": "markdown",
      "source": [
        "\n",
        "\n",
        "---\n",
        "\n"
      ],
      "metadata": {
        "id": "gARZ1l_aR5_8"
      }
    },
    {
      "cell_type": "markdown",
      "source": [
        "###Pickling"
      ],
      "metadata": {
        "id": "qv9MifclR69l"
      }
    },
    {
      "cell_type": "markdown",
      "source": [
        "O “Pickling” é o processo pelo qual uma hierarquia de objetos Python é convertida em um fluxo de bytes, e “unpickling” é a operação inversa, onde um fluxo de byte é convertido de volta em uma hierarquia de objetos."
      ],
      "metadata": {
        "id": "bnybwrQEUPLR"
      }
    },
    {
      "cell_type": "code",
      "source": [
        "import pickle\n",
        "\n",
        "pkl = pickle.dumps(clf)\n",
        "clf2 = pickle.loads(pkl) \n",
        "\n",
        "clf2.predict(X_test)\n"
      ],
      "metadata": {
        "id": "vmhV4J0DSH-7",
        "colab": {
          "base_uri": "https://localhost:8080/"
        },
        "outputId": "b38ff631-427f-426b-87b8-c41efb77a86b"
      },
      "execution_count": 6,
      "outputs": [
        {
          "output_type": "execute_result",
          "data": {
            "text/plain": [
              "array([2, 2, 1, 1, 1, 2, 1, 2, 2, 2, 1, 1, 1, 1, 2, 2, 1, 0, 0, 2, 2, 1,\n",
              "       0, 0, 1, 0, 1, 0, 1, 0, 1, 2, 1, 1, 0, 1, 0, 2])"
            ]
          },
          "metadata": {},
          "execution_count": 6
        }
      ]
    },
    {
      "cell_type": "markdown",
      "source": [
        "###Salvando em arquivo"
      ],
      "metadata": {
        "id": "_i6Zmp9QTeoC"
      }
    },
    {
      "cell_type": "code",
      "source": [
        "from joblib import dump, load\n",
        "\n",
        "dump(clf, 'modelo.joblib') "
      ],
      "metadata": {
        "id": "mRQf6ZG2TMhe",
        "colab": {
          "base_uri": "https://localhost:8080/"
        },
        "outputId": "3cab58f5-c395-4cba-d39a-7f65fdbd36a0"
      },
      "execution_count": 7,
      "outputs": [
        {
          "output_type": "execute_result",
          "data": {
            "text/plain": [
              "['modelo.joblib']"
            ]
          },
          "metadata": {},
          "execution_count": 7
        }
      ]
    },
    {
      "cell_type": "code",
      "source": [
        "clf3 = load('modelo.joblib') \n",
        "clf2.predict(X_test)"
      ],
      "metadata": {
        "id": "37K_L8ndTQuC",
        "colab": {
          "base_uri": "https://localhost:8080/"
        },
        "outputId": "c2b81cf3-511d-4e9f-a831-35afb06088af"
      },
      "execution_count": 8,
      "outputs": [
        {
          "output_type": "execute_result",
          "data": {
            "text/plain": [
              "array([2, 2, 1, 1, 1, 2, 1, 2, 2, 2, 1, 1, 1, 1, 2, 2, 1, 0, 0, 2, 2, 1,\n",
              "       0, 0, 1, 0, 1, 0, 1, 0, 1, 2, 1, 1, 0, 1, 0, 2])"
            ]
          },
          "metadata": {},
          "execution_count": 8
        }
      ]
    }
  ]
}