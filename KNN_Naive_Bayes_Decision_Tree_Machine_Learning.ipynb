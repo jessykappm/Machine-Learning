{
  "nbformat": 4,
  "nbformat_minor": 0,
  "metadata": {
    "colab": {
      "provenance": [],
      "collapsed_sections": [],
      "include_colab_link": true
    },
    "kernelspec": {
      "name": "python3",
      "display_name": "Python 3"
    },
    "language_info": {
      "name": "python"
    }
  },
  "cells": [
    {
      "cell_type": "markdown",
      "metadata": {
        "id": "view-in-github",
        "colab_type": "text"
      },
      "source": [
        "<a href=\"https://colab.research.google.com/github/jessykappm/Machine-Learning/blob/main/KNN_Naive_Bayes_Decision_Tree_Machine_Learning.ipynb\" target=\"_parent\"><img src=\"https://colab.research.google.com/assets/colab-badge.svg\" alt=\"Open In Colab\"/></a>"
      ]
    },
    {
      "cell_type": "markdown",
      "source": [
        "## **Aprendizado Supervisionado - Classificação**"
      ],
      "metadata": {
        "id": "gbFiEm_07XUN"
      }
    },
    {
      "cell_type": "markdown",
      "source": [
        "https://scikit-learn.org/"
      ],
      "metadata": {
        "id": "QKZZSmD83KIG"
      }
    },
    {
      "cell_type": "code",
      "execution_count": null,
      "metadata": {
        "id": "yiBNElRSnr62"
      },
      "outputs": [],
      "source": [
        "import pandas as pd\n",
        "from sklearn.model_selection import train_test_split \n"
      ]
    },
    {
      "cell_type": "code",
      "source": [
        "from google.colab import drive\n",
        "drive.mount('/content/drive')"
      ],
      "metadata": {
        "colab": {
          "base_uri": "https://localhost:8080/"
        },
        "id": "mGJwsxYhFst_",
        "outputId": "aed2c914-fb95-431b-802b-a7a734de4c47"
      },
      "execution_count": null,
      "outputs": [
        {
          "output_type": "stream",
          "name": "stdout",
          "text": [
            "Mounted at /content/drive\n"
          ]
        }
      ]
    },
    {
      "cell_type": "markdown",
      "source": [
        "Download Conjunto de Dados [Íris](https://drive.google.com/file/d/1zU372zcHbv3ezRIUYONAkZBz5tsgCnM8/view?usp=sharing)"
      ],
      "metadata": {
        "id": "NoVydcaa7Eze"
      }
    },
    {
      "cell_type": "code",
      "source": [
        "df = pd.read_csv('/content/drive/MyDrive/Colab Notebooks/iris.csv' ) #conjunto de dados Íris em csv"
      ],
      "metadata": {
        "id": "dN_TnENWvmq_"
      },
      "execution_count": null,
      "outputs": []
    },
    {
      "cell_type": "code",
      "source": [
        "print(df.head()) #visualizar as primeiras linhas do conjunto de dados "
      ],
      "metadata": {
        "id": "un2spfKp5a4-",
        "colab": {
          "base_uri": "https://localhost:8080/"
        },
        "outputId": "e3ce46c5-d23e-4bbe-8459-485e81520bef"
      },
      "execution_count": null,
      "outputs": [
        {
          "output_type": "stream",
          "name": "stdout",
          "text": [
            "   sepal.length  sepal.width  petal.length  petal.width variety\n",
            "0           5.1          3.5           1.4          0.2  Setosa\n",
            "1           4.9          3.0           1.4          0.2  Setosa\n",
            "2           4.7          3.2           1.3          0.2  Setosa\n",
            "3           4.6          3.1           1.5          0.2  Setosa\n",
            "4           5.0          3.6           1.4          0.2  Setosa\n"
          ]
        }
      ]
    },
    {
      "cell_type": "code",
      "source": [
        "df.variety.unique() #identificando as classes"
      ],
      "metadata": {
        "id": "yasC1ps3vpKZ",
        "colab": {
          "base_uri": "https://localhost:8080/"
        },
        "outputId": "570548d4-445a-40e8-f267-9ca0438e5091"
      },
      "execution_count": null,
      "outputs": [
        {
          "output_type": "execute_result",
          "data": {
            "text/plain": [
              "array(['Setosa', 'Versicolor', 'Virginica'], dtype=object)"
            ]
          },
          "metadata": {},
          "execution_count": 7
        }
      ]
    },
    {
      "cell_type": "code",
      "source": [
        "print(df.variety.value_counts()) #número de amostras por classe"
      ],
      "metadata": {
        "id": "4EGgImpp8aiN",
        "colab": {
          "base_uri": "https://localhost:8080/"
        },
        "outputId": "b489c1d0-c1c8-4bf6-b005-0a3eb6869f48"
      },
      "execution_count": null,
      "outputs": [
        {
          "output_type": "stream",
          "name": "stdout",
          "text": [
            "Setosa        50\n",
            "Versicolor    50\n",
            "Virginica     50\n",
            "Name: variety, dtype: int64\n"
          ]
        }
      ]
    },
    {
      "cell_type": "code",
      "source": [
        "df.info()"
      ],
      "metadata": {
        "colab": {
          "base_uri": "https://localhost:8080/"
        },
        "id": "8tablRGXGd2m",
        "outputId": "04186622-3013-4514-aca3-cae0c41a477d"
      },
      "execution_count": null,
      "outputs": [
        {
          "output_type": "stream",
          "name": "stdout",
          "text": [
            "<class 'pandas.core.frame.DataFrame'>\n",
            "RangeIndex: 150 entries, 0 to 149\n",
            "Data columns (total 5 columns):\n",
            " #   Column        Non-Null Count  Dtype  \n",
            "---  ------        --------------  -----  \n",
            " 0   sepal.length  150 non-null    float64\n",
            " 1   sepal.width   150 non-null    float64\n",
            " 2   petal.length  150 non-null    float64\n",
            " 3   petal.width   150 non-null    float64\n",
            " 4   variety       150 non-null    object \n",
            "dtypes: float64(4), object(1)\n",
            "memory usage: 6.0+ KB\n"
          ]
        }
      ]
    },
    {
      "cell_type": "code",
      "source": [
        "df.describe()"
      ],
      "metadata": {
        "colab": {
          "base_uri": "https://localhost:8080/",
          "height": 300
        },
        "id": "gAViz4l8GgoO",
        "outputId": "aed56caf-49c6-4e56-f401-9d5f93fc7c32"
      },
      "execution_count": null,
      "outputs": [
        {
          "output_type": "execute_result",
          "data": {
            "text/plain": [
              "       sepal.length  sepal.width  petal.length  petal.width\n",
              "count    150.000000   150.000000    150.000000   150.000000\n",
              "mean       5.843333     3.057333      3.758000     1.199333\n",
              "std        0.828066     0.435866      1.765298     0.762238\n",
              "min        4.300000     2.000000      1.000000     0.100000\n",
              "25%        5.100000     2.800000      1.600000     0.300000\n",
              "50%        5.800000     3.000000      4.350000     1.300000\n",
              "75%        6.400000     3.300000      5.100000     1.800000\n",
              "max        7.900000     4.400000      6.900000     2.500000"
            ],
            "text/html": [
              "\n",
              "  <div id=\"df-9178bed2-6c8a-4db6-8cd7-5b4551fd4941\">\n",
              "    <div class=\"colab-df-container\">\n",
              "      <div>\n",
              "<style scoped>\n",
              "    .dataframe tbody tr th:only-of-type {\n",
              "        vertical-align: middle;\n",
              "    }\n",
              "\n",
              "    .dataframe tbody tr th {\n",
              "        vertical-align: top;\n",
              "    }\n",
              "\n",
              "    .dataframe thead th {\n",
              "        text-align: right;\n",
              "    }\n",
              "</style>\n",
              "<table border=\"1\" class=\"dataframe\">\n",
              "  <thead>\n",
              "    <tr style=\"text-align: right;\">\n",
              "      <th></th>\n",
              "      <th>sepal.length</th>\n",
              "      <th>sepal.width</th>\n",
              "      <th>petal.length</th>\n",
              "      <th>petal.width</th>\n",
              "    </tr>\n",
              "  </thead>\n",
              "  <tbody>\n",
              "    <tr>\n",
              "      <th>count</th>\n",
              "      <td>150.000000</td>\n",
              "      <td>150.000000</td>\n",
              "      <td>150.000000</td>\n",
              "      <td>150.000000</td>\n",
              "    </tr>\n",
              "    <tr>\n",
              "      <th>mean</th>\n",
              "      <td>5.843333</td>\n",
              "      <td>3.057333</td>\n",
              "      <td>3.758000</td>\n",
              "      <td>1.199333</td>\n",
              "    </tr>\n",
              "    <tr>\n",
              "      <th>std</th>\n",
              "      <td>0.828066</td>\n",
              "      <td>0.435866</td>\n",
              "      <td>1.765298</td>\n",
              "      <td>0.762238</td>\n",
              "    </tr>\n",
              "    <tr>\n",
              "      <th>min</th>\n",
              "      <td>4.300000</td>\n",
              "      <td>2.000000</td>\n",
              "      <td>1.000000</td>\n",
              "      <td>0.100000</td>\n",
              "    </tr>\n",
              "    <tr>\n",
              "      <th>25%</th>\n",
              "      <td>5.100000</td>\n",
              "      <td>2.800000</td>\n",
              "      <td>1.600000</td>\n",
              "      <td>0.300000</td>\n",
              "    </tr>\n",
              "    <tr>\n",
              "      <th>50%</th>\n",
              "      <td>5.800000</td>\n",
              "      <td>3.000000</td>\n",
              "      <td>4.350000</td>\n",
              "      <td>1.300000</td>\n",
              "    </tr>\n",
              "    <tr>\n",
              "      <th>75%</th>\n",
              "      <td>6.400000</td>\n",
              "      <td>3.300000</td>\n",
              "      <td>5.100000</td>\n",
              "      <td>1.800000</td>\n",
              "    </tr>\n",
              "    <tr>\n",
              "      <th>max</th>\n",
              "      <td>7.900000</td>\n",
              "      <td>4.400000</td>\n",
              "      <td>6.900000</td>\n",
              "      <td>2.500000</td>\n",
              "    </tr>\n",
              "  </tbody>\n",
              "</table>\n",
              "</div>\n",
              "      <button class=\"colab-df-convert\" onclick=\"convertToInteractive('df-9178bed2-6c8a-4db6-8cd7-5b4551fd4941')\"\n",
              "              title=\"Convert this dataframe to an interactive table.\"\n",
              "              style=\"display:none;\">\n",
              "        \n",
              "  <svg xmlns=\"http://www.w3.org/2000/svg\" height=\"24px\"viewBox=\"0 0 24 24\"\n",
              "       width=\"24px\">\n",
              "    <path d=\"M0 0h24v24H0V0z\" fill=\"none\"/>\n",
              "    <path d=\"M18.56 5.44l.94 2.06.94-2.06 2.06-.94-2.06-.94-.94-2.06-.94 2.06-2.06.94zm-11 1L8.5 8.5l.94-2.06 2.06-.94-2.06-.94L8.5 2.5l-.94 2.06-2.06.94zm10 10l.94 2.06.94-2.06 2.06-.94-2.06-.94-.94-2.06-.94 2.06-2.06.94z\"/><path d=\"M17.41 7.96l-1.37-1.37c-.4-.4-.92-.59-1.43-.59-.52 0-1.04.2-1.43.59L10.3 9.45l-7.72 7.72c-.78.78-.78 2.05 0 2.83L4 21.41c.39.39.9.59 1.41.59.51 0 1.02-.2 1.41-.59l7.78-7.78 2.81-2.81c.8-.78.8-2.07 0-2.86zM5.41 20L4 18.59l7.72-7.72 1.47 1.35L5.41 20z\"/>\n",
              "  </svg>\n",
              "      </button>\n",
              "      \n",
              "  <style>\n",
              "    .colab-df-container {\n",
              "      display:flex;\n",
              "      flex-wrap:wrap;\n",
              "      gap: 12px;\n",
              "    }\n",
              "\n",
              "    .colab-df-convert {\n",
              "      background-color: #E8F0FE;\n",
              "      border: none;\n",
              "      border-radius: 50%;\n",
              "      cursor: pointer;\n",
              "      display: none;\n",
              "      fill: #1967D2;\n",
              "      height: 32px;\n",
              "      padding: 0 0 0 0;\n",
              "      width: 32px;\n",
              "    }\n",
              "\n",
              "    .colab-df-convert:hover {\n",
              "      background-color: #E2EBFA;\n",
              "      box-shadow: 0px 1px 2px rgba(60, 64, 67, 0.3), 0px 1px 3px 1px rgba(60, 64, 67, 0.15);\n",
              "      fill: #174EA6;\n",
              "    }\n",
              "\n",
              "    [theme=dark] .colab-df-convert {\n",
              "      background-color: #3B4455;\n",
              "      fill: #D2E3FC;\n",
              "    }\n",
              "\n",
              "    [theme=dark] .colab-df-convert:hover {\n",
              "      background-color: #434B5C;\n",
              "      box-shadow: 0px 1px 3px 1px rgba(0, 0, 0, 0.15);\n",
              "      filter: drop-shadow(0px 1px 2px rgba(0, 0, 0, 0.3));\n",
              "      fill: #FFFFFF;\n",
              "    }\n",
              "  </style>\n",
              "\n",
              "      <script>\n",
              "        const buttonEl =\n",
              "          document.querySelector('#df-9178bed2-6c8a-4db6-8cd7-5b4551fd4941 button.colab-df-convert');\n",
              "        buttonEl.style.display =\n",
              "          google.colab.kernel.accessAllowed ? 'block' : 'none';\n",
              "\n",
              "        async function convertToInteractive(key) {\n",
              "          const element = document.querySelector('#df-9178bed2-6c8a-4db6-8cd7-5b4551fd4941');\n",
              "          const dataTable =\n",
              "            await google.colab.kernel.invokeFunction('convertToInteractive',\n",
              "                                                     [key], {});\n",
              "          if (!dataTable) return;\n",
              "\n",
              "          const docLinkHtml = 'Like what you see? Visit the ' +\n",
              "            '<a target=\"_blank\" href=https://colab.research.google.com/notebooks/data_table.ipynb>data table notebook</a>'\n",
              "            + ' to learn more about interactive tables.';\n",
              "          element.innerHTML = '';\n",
              "          dataTable['output_type'] = 'display_data';\n",
              "          await google.colab.output.renderOutput(dataTable, element);\n",
              "          const docLink = document.createElement('div');\n",
              "          docLink.innerHTML = docLinkHtml;\n",
              "          element.appendChild(docLink);\n",
              "        }\n",
              "      </script>\n",
              "    </div>\n",
              "  </div>\n",
              "  "
            ]
          },
          "metadata": {},
          "execution_count": 12
        }
      ]
    },
    {
      "cell_type": "code",
      "source": [
        "X = df.drop('variety', axis=1) #remove a variety (target)\n",
        "y = df.variety   #define variety (classes) como target"
      ],
      "metadata": {
        "id": "z9edBh-bvrK6"
      },
      "execution_count": null,
      "outputs": []
    },
    {
      "cell_type": "code",
      "source": [
        "# divisão do conjunto de dados em Treinamento e Teste\n",
        "X_train, X_test, y_train, y_test = train_test_split(X, y, test_size=0.20)"
      ],
      "metadata": {
        "id": "WR-MBlJ8vt2w"
      },
      "execution_count": null,
      "outputs": []
    },
    {
      "cell_type": "markdown",
      "source": [
        "\n",
        "\n",
        "---\n",
        "\n"
      ],
      "metadata": {
        "id": "1fyxY9BROpjz"
      }
    },
    {
      "cell_type": "markdown",
      "source": [
        "💡 Experimentos: Verifique se melhora a performance do seu modelo ao transformar os dados usando: StandardScaler"
      ],
      "metadata": {
        "id": "A8KXZRoH2sMj"
      }
    },
    {
      "cell_type": "code",
      "source": [
        "from sklearn.preprocessing import StandardScaler\n",
        "\n",
        "scaler = StandardScaler()  \n",
        "scaler.fit(X)  \n",
        "\n",
        "X_train = scaler.transform(X_train)  \n",
        "X_test = scaler.transform(X_test) \n"
      ],
      "metadata": {
        "id": "qkJod23R9gRm"
      },
      "execution_count": null,
      "outputs": []
    },
    {
      "cell_type": "markdown",
      "source": [
        "\n",
        "\n",
        "---\n",
        "\n"
      ],
      "metadata": {
        "id": "l9x3lfaWOrYb"
      }
    },
    {
      "cell_type": "markdown",
      "source": [
        "### Algoritmo KNN "
      ],
      "metadata": {
        "id": "EYl-NpxTCN0k"
      }
    },
    {
      "cell_type": "markdown",
      "source": [
        "![image.png](data:image/png;base64,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)"
      ],
      "metadata": {
        "id": "jJSRkBMBPXRC"
      }
    },
    {
      "cell_type": "markdown",
      "source": [
        "KNN (K-Nearest Neighbors) passo-a-passo:\n",
        "\n",
        "1.   Calcula a distância entre o exemplo desconhecido e todos os exemplos do conjunto de treinamento;\n",
        "\n",
        "2.   Identificar os K vizinhos mais próximos;\n",
        "\n",
        "3.   Definir a classe do novo objeto de acordo com a classe do maior número de vizinhos próximos"
      ],
      "metadata": {
        "id": "StNzkpH-4jhU"
      }
    },
    {
      "cell_type": "code",
      "source": [
        "from sklearn.neighbors import KNeighborsClassifier #KNN"
      ],
      "metadata": {
        "id": "WCldDUToCZl3"
      },
      "execution_count": null,
      "outputs": []
    },
    {
      "cell_type": "code",
      "source": [
        "knn = KNeighborsClassifier(n_neighbors = 5, p = 2) #número de vizinhos e p = 2 distância euclideana"
      ],
      "metadata": {
        "id": "PlGnB9u1vwVb"
      },
      "execution_count": null,
      "outputs": []
    },
    {
      "cell_type": "code",
      "source": [
        "knn.fit(X_train,y_train) #método fit, treinando o modelo com dados de treinamento"
      ],
      "metadata": {
        "id": "P1HHzKn8vyuW",
        "colab": {
          "base_uri": "https://localhost:8080/"
        },
        "outputId": "c89cc818-a1c7-495a-febd-82016a497e0e"
      },
      "execution_count": null,
      "outputs": [
        {
          "output_type": "execute_result",
          "data": {
            "text/plain": [
              "KNeighborsClassifier()"
            ]
          },
          "metadata": {},
          "execution_count": 17
        }
      ]
    },
    {
      "cell_type": "code",
      "source": [
        "knn.score(X_test,y_test) #Verificando Score"
      ],
      "metadata": {
        "id": "cSx3mCdyv2PO",
        "colab": {
          "base_uri": "https://localhost:8080/"
        },
        "outputId": "388414a9-baf8-4e19-b8be-887b1232038a"
      },
      "execution_count": null,
      "outputs": [
        {
          "output_type": "execute_result",
          "data": {
            "text/plain": [
              "0.9333333333333333"
            ]
          },
          "metadata": {},
          "execution_count": 18
        }
      ]
    },
    {
      "cell_type": "code",
      "source": [
        "y_pred = knn.predict(X_test) #testando o modelo\n",
        "\n",
        "print('Classificador:', y_pred[1])\n",
        "print('Valor Real:', y_test.iloc[1])"
      ],
      "metadata": {
        "id": "Piie-DXaGpiO",
        "colab": {
          "base_uri": "https://localhost:8080/"
        },
        "outputId": "299a78dc-3e60-47f8-856d-46f28b6c1b15"
      },
      "execution_count": null,
      "outputs": [
        {
          "output_type": "stream",
          "name": "stdout",
          "text": [
            "Classificador: Setosa\n",
            "Valor Real: Setosa\n"
          ]
        }
      ]
    },
    {
      "cell_type": "markdown",
      "source": [
        "\n",
        "\n",
        "---\n",
        "\n"
      ],
      "metadata": {
        "id": "23AllJXTkX1j"
      }
    },
    {
      "cell_type": "markdown",
      "source": [
        "###Algoritmo Naive Bayes "
      ],
      "metadata": {
        "id": "wOsUL2hMEaeb"
      }
    },
    {
      "cell_type": "markdown",
      "source": [
        "O teorema de Bayes descreve a probabilidade de ocorrência de um evento, com base no conhecimento prévio das condições que podem estar relacionadas ao evento."
      ],
      "metadata": {
        "id": "sP4hDaAYt_Ha"
      }
    },
    {
      "cell_type": "markdown",
      "source": [
        "![image.png](data:image/png;base64,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)"
      ],
      "metadata": {
        "id": "wc1jITIet0xd"
      }
    },
    {
      "cell_type": "code",
      "source": [
        "import pandas as pd\n",
        "import numpy as np\n",
        "from sklearn.naive_bayes import GaussianNB #Naive Bayes\n",
        "from sklearn.model_selection import train_test_split \n",
        "import matplotlib.pyplot as plt"
      ],
      "metadata": {
        "id": "Mj9IpeDAKTf0"
      },
      "execution_count": null,
      "outputs": []
    },
    {
      "cell_type": "code",
      "source": [
        "df = pd.read_csv('/content/drive/MyDrive/Colab Notebooks/iris.csv' ) #conjunto de dados Íris\n",
        "df.head()"
      ],
      "metadata": {
        "id": "1fAoZ9RIKWDx",
        "colab": {
          "base_uri": "https://localhost:8080/",
          "height": 206
        },
        "outputId": "f2b8b378-85b5-4e06-b9ab-4bc9aa71e30f"
      },
      "execution_count": null,
      "outputs": [
        {
          "output_type": "execute_result",
          "data": {
            "text/plain": [
              "   sepal.length  sepal.width  petal.length  petal.width variety\n",
              "0           5.1          3.5           1.4          0.2  Setosa\n",
              "1           4.9          3.0           1.4          0.2  Setosa\n",
              "2           4.7          3.2           1.3          0.2  Setosa\n",
              "3           4.6          3.1           1.5          0.2  Setosa\n",
              "4           5.0          3.6           1.4          0.2  Setosa"
            ],
            "text/html": [
              "\n",
              "  <div id=\"df-d3e58598-de9c-463f-9b12-6e4ce544e4c2\">\n",
              "    <div class=\"colab-df-container\">\n",
              "      <div>\n",
              "<style scoped>\n",
              "    .dataframe tbody tr th:only-of-type {\n",
              "        vertical-align: middle;\n",
              "    }\n",
              "\n",
              "    .dataframe tbody tr th {\n",
              "        vertical-align: top;\n",
              "    }\n",
              "\n",
              "    .dataframe thead th {\n",
              "        text-align: right;\n",
              "    }\n",
              "</style>\n",
              "<table border=\"1\" class=\"dataframe\">\n",
              "  <thead>\n",
              "    <tr style=\"text-align: right;\">\n",
              "      <th></th>\n",
              "      <th>sepal.length</th>\n",
              "      <th>sepal.width</th>\n",
              "      <th>petal.length</th>\n",
              "      <th>petal.width</th>\n",
              "      <th>variety</th>\n",
              "    </tr>\n",
              "  </thead>\n",
              "  <tbody>\n",
              "    <tr>\n",
              "      <th>0</th>\n",
              "      <td>5.1</td>\n",
              "      <td>3.5</td>\n",
              "      <td>1.4</td>\n",
              "      <td>0.2</td>\n",
              "      <td>Setosa</td>\n",
              "    </tr>\n",
              "    <tr>\n",
              "      <th>1</th>\n",
              "      <td>4.9</td>\n",
              "      <td>3.0</td>\n",
              "      <td>1.4</td>\n",
              "      <td>0.2</td>\n",
              "      <td>Setosa</td>\n",
              "    </tr>\n",
              "    <tr>\n",
              "      <th>2</th>\n",
              "      <td>4.7</td>\n",
              "      <td>3.2</td>\n",
              "      <td>1.3</td>\n",
              "      <td>0.2</td>\n",
              "      <td>Setosa</td>\n",
              "    </tr>\n",
              "    <tr>\n",
              "      <th>3</th>\n",
              "      <td>4.6</td>\n",
              "      <td>3.1</td>\n",
              "      <td>1.5</td>\n",
              "      <td>0.2</td>\n",
              "      <td>Setosa</td>\n",
              "    </tr>\n",
              "    <tr>\n",
              "      <th>4</th>\n",
              "      <td>5.0</td>\n",
              "      <td>3.6</td>\n",
              "      <td>1.4</td>\n",
              "      <td>0.2</td>\n",
              "      <td>Setosa</td>\n",
              "    </tr>\n",
              "  </tbody>\n",
              "</table>\n",
              "</div>\n",
              "      <button class=\"colab-df-convert\" onclick=\"convertToInteractive('df-d3e58598-de9c-463f-9b12-6e4ce544e4c2')\"\n",
              "              title=\"Convert this dataframe to an interactive table.\"\n",
              "              style=\"display:none;\">\n",
              "        \n",
              "  <svg xmlns=\"http://www.w3.org/2000/svg\" height=\"24px\"viewBox=\"0 0 24 24\"\n",
              "       width=\"24px\">\n",
              "    <path d=\"M0 0h24v24H0V0z\" fill=\"none\"/>\n",
              "    <path d=\"M18.56 5.44l.94 2.06.94-2.06 2.06-.94-2.06-.94-.94-2.06-.94 2.06-2.06.94zm-11 1L8.5 8.5l.94-2.06 2.06-.94-2.06-.94L8.5 2.5l-.94 2.06-2.06.94zm10 10l.94 2.06.94-2.06 2.06-.94-2.06-.94-.94-2.06-.94 2.06-2.06.94z\"/><path d=\"M17.41 7.96l-1.37-1.37c-.4-.4-.92-.59-1.43-.59-.52 0-1.04.2-1.43.59L10.3 9.45l-7.72 7.72c-.78.78-.78 2.05 0 2.83L4 21.41c.39.39.9.59 1.41.59.51 0 1.02-.2 1.41-.59l7.78-7.78 2.81-2.81c.8-.78.8-2.07 0-2.86zM5.41 20L4 18.59l7.72-7.72 1.47 1.35L5.41 20z\"/>\n",
              "  </svg>\n",
              "      </button>\n",
              "      \n",
              "  <style>\n",
              "    .colab-df-container {\n",
              "      display:flex;\n",
              "      flex-wrap:wrap;\n",
              "      gap: 12px;\n",
              "    }\n",
              "\n",
              "    .colab-df-convert {\n",
              "      background-color: #E8F0FE;\n",
              "      border: none;\n",
              "      border-radius: 50%;\n",
              "      cursor: pointer;\n",
              "      display: none;\n",
              "      fill: #1967D2;\n",
              "      height: 32px;\n",
              "      padding: 0 0 0 0;\n",
              "      width: 32px;\n",
              "    }\n",
              "\n",
              "    .colab-df-convert:hover {\n",
              "      background-color: #E2EBFA;\n",
              "      box-shadow: 0px 1px 2px rgba(60, 64, 67, 0.3), 0px 1px 3px 1px rgba(60, 64, 67, 0.15);\n",
              "      fill: #174EA6;\n",
              "    }\n",
              "\n",
              "    [theme=dark] .colab-df-convert {\n",
              "      background-color: #3B4455;\n",
              "      fill: #D2E3FC;\n",
              "    }\n",
              "\n",
              "    [theme=dark] .colab-df-convert:hover {\n",
              "      background-color: #434B5C;\n",
              "      box-shadow: 0px 1px 3px 1px rgba(0, 0, 0, 0.15);\n",
              "      filter: drop-shadow(0px 1px 2px rgba(0, 0, 0, 0.3));\n",
              "      fill: #FFFFFF;\n",
              "    }\n",
              "  </style>\n",
              "\n",
              "      <script>\n",
              "        const buttonEl =\n",
              "          document.querySelector('#df-d3e58598-de9c-463f-9b12-6e4ce544e4c2 button.colab-df-convert');\n",
              "        buttonEl.style.display =\n",
              "          google.colab.kernel.accessAllowed ? 'block' : 'none';\n",
              "\n",
              "        async function convertToInteractive(key) {\n",
              "          const element = document.querySelector('#df-d3e58598-de9c-463f-9b12-6e4ce544e4c2');\n",
              "          const dataTable =\n",
              "            await google.colab.kernel.invokeFunction('convertToInteractive',\n",
              "                                                     [key], {});\n",
              "          if (!dataTable) return;\n",
              "\n",
              "          const docLinkHtml = 'Like what you see? Visit the ' +\n",
              "            '<a target=\"_blank\" href=https://colab.research.google.com/notebooks/data_table.ipynb>data table notebook</a>'\n",
              "            + ' to learn more about interactive tables.';\n",
              "          element.innerHTML = '';\n",
              "          dataTable['output_type'] = 'display_data';\n",
              "          await google.colab.output.renderOutput(dataTable, element);\n",
              "          const docLink = document.createElement('div');\n",
              "          docLink.innerHTML = docLinkHtml;\n",
              "          element.appendChild(docLink);\n",
              "        }\n",
              "      </script>\n",
              "    </div>\n",
              "  </div>\n",
              "  "
            ]
          },
          "metadata": {},
          "execution_count": 26
        }
      ]
    },
    {
      "cell_type": "code",
      "source": [
        "print(df['variety'].unique())"
      ],
      "metadata": {
        "id": "4LDhrvbWQH_r",
        "colab": {
          "base_uri": "https://localhost:8080/"
        },
        "outputId": "52137715-141d-40c6-8dc7-f98b33f47a85"
      },
      "execution_count": null,
      "outputs": [
        {
          "output_type": "stream",
          "name": "stdout",
          "text": [
            "['Setosa' 'Versicolor' 'Virginica']\n"
          ]
        }
      ]
    },
    {
      "cell_type": "code",
      "source": [
        "from sklearn.preprocessing import LabelEncoder\n",
        "\n",
        "target_num = LabelEncoder()\n",
        "target_num.fit(df['variety'])\n",
        "df['variety'] = target_num.fit_transform(df['variety']) #transforma Variety em valor numérico\n",
        "\n",
        "print(df['variety'].unique())"
      ],
      "metadata": {
        "id": "xals1ixvvxeh",
        "colab": {
          "base_uri": "https://localhost:8080/"
        },
        "outputId": "8612d5bb-d7d3-457a-c62a-0c14f48f6965"
      },
      "execution_count": null,
      "outputs": [
        {
          "output_type": "stream",
          "name": "stdout",
          "text": [
            "[0 1 2]\n"
          ]
        }
      ]
    },
    {
      "cell_type": "code",
      "source": [
        "X = df.iloc[:,1:3] #features treinamento\n",
        "y = df.variety   #define variety como target (classe) "
      ],
      "metadata": {
        "id": "ni7t-TO2KYLx"
      },
      "execution_count": null,
      "outputs": []
    },
    {
      "cell_type": "markdown",
      "source": [
        "\n",
        "\n",
        "---\n",
        "\n"
      ],
      "metadata": {
        "id": "dAK1LOd9w3v3"
      }
    },
    {
      "cell_type": "markdown",
      "source": [
        "💡 Experimento: Teste a redução de dimensionalidade com PCA com 2 componentes"
      ],
      "metadata": {
        "id": "Q-smMBABwny2"
      }
    },
    {
      "cell_type": "code",
      "source": [
        "from sklearn.decomposition import PCA \n",
        "\n",
        "pca = PCA(n_components=2) \n",
        "X = pca.fit_transform(df.iloc[:,0:4])\n"
      ],
      "metadata": {
        "id": "vz2wH6mdw5PJ"
      },
      "execution_count": null,
      "outputs": []
    },
    {
      "cell_type": "code",
      "source": [
        "y = df.variety"
      ],
      "metadata": {
        "id": "5wH0wIPdxbEO"
      },
      "execution_count": null,
      "outputs": []
    },
    {
      "cell_type": "markdown",
      "source": [
        "\n",
        "\n",
        "---\n",
        "\n"
      ],
      "metadata": {
        "id": "2KlZbODZw7E3"
      }
    },
    {
      "cell_type": "code",
      "source": [
        "# divisão do conjunto de dados em Treinamento e Teste\n",
        "X_train, X_test, y_train, y_test = train_test_split(X, y, test_size=0.20)"
      ],
      "metadata": {
        "id": "fa1BNWQuKZz0"
      },
      "execution_count": null,
      "outputs": []
    },
    {
      "cell_type": "code",
      "source": [
        "gnb = GaussianNB() #Modelo Naive Bayes\n",
        "\n",
        "gnb.fit(X_train, y_train)  #método fit, treinando o modelo com dados de treinamento"
      ],
      "metadata": {
        "id": "rsVczn8TKbfq",
        "colab": {
          "base_uri": "https://localhost:8080/"
        },
        "outputId": "1a1b0395-d17e-48bc-93b2-9a87c1f47b28"
      },
      "execution_count": null,
      "outputs": [
        {
          "output_type": "execute_result",
          "data": {
            "text/plain": [
              "GaussianNB()"
            ]
          },
          "metadata": {},
          "execution_count": 40
        }
      ]
    },
    {
      "cell_type": "code",
      "source": [
        "gnb.score(X_test,y_test) #score do modelo no conjunto de dados de teste. Validação"
      ],
      "metadata": {
        "id": "o4yfAaTQKe-2",
        "colab": {
          "base_uri": "https://localhost:8080/"
        },
        "outputId": "31b43646-cf9b-4ece-c2ce-fb7b6e19277a"
      },
      "execution_count": null,
      "outputs": [
        {
          "output_type": "execute_result",
          "data": {
            "text/plain": [
              "0.8333333333333334"
            ]
          },
          "metadata": {},
          "execution_count": 41
        }
      ]
    },
    {
      "cell_type": "code",
      "source": [
        "y_pred = gnb.predict(X_test) #testando uma única amostra de testes\n",
        "\n",
        "print('Classificador:', y_pred[1])\n",
        "print('Valor Real:', y_test.iloc[1])"
      ],
      "metadata": {
        "id": "nmJhDKFkROAO",
        "colab": {
          "base_uri": "https://localhost:8080/"
        },
        "outputId": "dbfc4e92-dce1-4f96-db15-b313f7617d2c"
      },
      "execution_count": null,
      "outputs": [
        {
          "output_type": "stream",
          "name": "stdout",
          "text": [
            "Classificador: 2\n",
            "Valor Real: 2\n"
          ]
        }
      ]
    },
    {
      "cell_type": "code",
      "source": [
        "# Plotando Decision Boundary (Limite de decisão)\n",
        "from mlxtend.plotting import plot_decision_regions\n",
        "\n",
        "plot_decision_regions(np.asarray(X_test), np.asarray(y_test), clf = gnb,legend=2)\n",
        "plt.title(\"Limite de decisão - Naive Bayes\")\n"
      ],
      "metadata": {
        "id": "CNW3Bzv_uQjj",
        "colab": {
          "base_uri": "https://localhost:8080/",
          "height": 356
        },
        "outputId": "dcc2a921-386f-4a5b-d68a-ceb220cfe17f"
      },
      "execution_count": null,
      "outputs": [
        {
          "output_type": "stream",
          "name": "stderr",
          "text": [
            "/usr/local/lib/python3.7/dist-packages/mlxtend/plotting/decision_regions.py:244: MatplotlibDeprecationWarning: Passing unsupported keyword arguments to axis() will raise a TypeError in 3.3.\n",
            "  ax.axis(xmin=xx.min(), xmax=xx.max(), y_min=yy.min(), y_max=yy.max())\n"
          ]
        },
        {
          "output_type": "execute_result",
          "data": {
            "text/plain": [
              "Text(0.5, 1.0, 'Limite de decisão - Naive Bayes')"
            ]
          },
          "metadata": {},
          "execution_count": 43
        },
        {
          "output_type": "display_data",
          "data": {
            "text/plain": [
              "<Figure size 432x288 with 1 Axes>"
            ],
            "image/png": "[encoded data removed]"
          },
          "metadata": {
            "needs_background": "light"
          }
        }
      ]
    },
    {
      "cell_type": "markdown",
      "source": [
        "\n",
        "\n",
        "---\n",
        "\n"
      ],
      "metadata": {
        "id": "FHrzuM_BkaoZ"
      }
    },
    {
      "cell_type": "markdown",
      "source": [
        "### Algoritmo Decision Tree "
      ],
      "metadata": {
        "id": "1D2cJrBHCteV"
      }
    },
    {
      "cell_type": "markdown",
      "source": [
        "Árvore de decisão - Cada nó de decisão\n",
        "contém um teste para algum atributo, cada ramo descendente corresponde a um\n",
        "possível valor deste atributo, o conjunto de ramos são distintos, cada folha está\n",
        "associada a uma classe e, cada percurso da árvore, da raiz à folha corresponde\n",
        "uma regra de classificação. (Gama, 2004)"
      ],
      "metadata": {
        "id": "ZL1-cGlDRWHm"
      }
    },
    {
      "cell_type": "code",
      "source": [
        "from sklearn.tree import DecisionTreeClassifier \n",
        "from sklearn import tree\n",
        "import matplotlib.pyplot as plt\n"
      ],
      "metadata": {
        "id": "9Mp3Rr95C4nb"
      },
      "execution_count": null,
      "outputs": []
    },
    {
      "cell_type": "code",
      "source": [
        "df = pd.read_csv('/content/drive/MyDrive/Colab Notebooks/iris.csv' ) #conjunto de dados Íris"
      ],
      "metadata": {
        "id": "PqgVl6bUDAYK"
      },
      "execution_count": null,
      "outputs": []
    },
    {
      "cell_type": "code",
      "source": [
        "X = df.drop('variety', axis=1) #remove a variety (target)\n",
        "y = df.variety   #define variety (classe) como target"
      ],
      "metadata": {
        "id": "4nRwWHGPDDWL"
      },
      "execution_count": null,
      "outputs": []
    },
    {
      "cell_type": "code",
      "source": [
        "# divisão do conjunto de dados em Treinamento e Teste\n",
        "X_train, X_test, y_train, y_test = train_test_split(X, y, test_size=0.20)"
      ],
      "metadata": {
        "id": "l87qMrvRDGdz"
      },
      "execution_count": null,
      "outputs": []
    },
    {
      "cell_type": "code",
      "source": [
        "# Decision Tree\n",
        "dtree = DecisionTreeClassifier() #max_depth=3\n",
        "dtree.fit(X_train, y_train)"
      ],
      "metadata": {
        "id": "l4uP56pMCzfM",
        "colab": {
          "base_uri": "https://localhost:8080/"
        },
        "outputId": "62675f10-d8a6-4cae-c9be-438c9891adf7"
      },
      "execution_count": null,
      "outputs": [
        {
          "output_type": "execute_result",
          "data": {
            "text/plain": [
              "DecisionTreeClassifier()"
            ]
          },
          "metadata": {},
          "execution_count": 49
        }
      ]
    },
    {
      "cell_type": "code",
      "source": [
        "dtree.score(X_test, y_test) #score do modelo"
      ],
      "metadata": {
        "id": "QhgeG4xSE69b",
        "colab": {
          "base_uri": "https://localhost:8080/"
        },
        "outputId": "7b439707-a3b3-490a-a6b5-fb174f215bab"
      },
      "execution_count": null,
      "outputs": [
        {
          "output_type": "execute_result",
          "data": {
            "text/plain": [
              "0.9333333333333333"
            ]
          },
          "metadata": {},
          "execution_count": 50
        }
      ]
    },
    {
      "cell_type": "code",
      "source": [
        "y_pred = dtree.predict(X_test) #testando o modelo\n",
        "\n",
        "print('Classificador:', y_pred[1])\n",
        "print('Valor Real:', y_test.iloc[1])"
      ],
      "metadata": {
        "id": "ab5G_1JyG3DT",
        "colab": {
          "base_uri": "https://localhost:8080/"
        },
        "outputId": "a3fc442f-ab5e-4a5c-d77d-d22864ce0852"
      },
      "execution_count": null,
      "outputs": [
        {
          "output_type": "stream",
          "name": "stdout",
          "text": [
            "Classificador: Versicolor\n",
            "Valor Real: Versicolor\n"
          ]
        }
      ]
    },
    {
      "cell_type": "code",
      "source": [
        "arvore_visual = tree.export_text(dtree) #Conceito de White Box\n",
        "print(arvore_visual)"
      ],
      "metadata": {
        "id": "uA_DMuedlHbP",
        "colab": {
          "base_uri": "https://localhost:8080/"
        },
        "outputId": "99258932-fd00-46bb-a244-6243c44e0b9d"
      },
      "execution_count": null,
      "outputs": [
        {
          "output_type": "stream",
          "name": "stdout",
          "text": [
            "|--- feature_3 <= 0.80\n",
            "|   |--- class: Setosa\n",
            "|--- feature_3 >  0.80\n",
            "|   |--- feature_3 <= 1.75\n",
            "|   |   |--- feature_2 <= 5.35\n",
            "|   |   |   |--- feature_2 <= 4.95\n",
            "|   |   |   |   |--- class: Versicolor\n",
            "|   |   |   |--- feature_2 >  4.95\n",
            "|   |   |   |   |--- feature_1 <= 2.45\n",
            "|   |   |   |   |   |--- class: Virginica\n",
            "|   |   |   |   |--- feature_1 >  2.45\n",
            "|   |   |   |   |   |--- class: Versicolor\n",
            "|   |   |--- feature_2 >  5.35\n",
            "|   |   |   |--- class: Virginica\n",
            "|   |--- feature_3 >  1.75\n",
            "|   |   |--- feature_2 <= 4.85\n",
            "|   |   |   |--- feature_1 <= 3.10\n",
            "|   |   |   |   |--- class: Virginica\n",
            "|   |   |   |--- feature_1 >  3.10\n",
            "|   |   |   |   |--- class: Versicolor\n",
            "|   |   |--- feature_2 >  4.85\n",
            "|   |   |   |--- class: Virginica\n",
            "\n"
          ]
        }
      ]
    },
    {
      "cell_type": "markdown",
      "source": [
        "O critério utilizado para realizar as partições é o da utilidade do atributo\n",
        "para a classificação. Aplica-se, por este critério, um determinado ganho de\n",
        "informação a cada atributo. O atributo escolhido como atributo teste para o\n",
        "corrente nó é aquele que possui o maior ganho de informação. A partir desta\n",
        "aplicação, inicia-se um novo processo de partição. (M. Onoda - 2001)"
      ],
      "metadata": {
        "id": "38ynuJLCXZWS"
      }
    },
    {
      "cell_type": "code",
      "source": [
        "#Visualização árvore - Conceito whitebox, consigo entender e explicar as regras\n",
        "\n",
        "fig = plt.figure(figsize = (35,10))\n",
        "visualdtree = tree.plot_tree(dtree, feature_names = df.columns,  \n",
        "                             class_names= df.variety.unique(),\n",
        "                             filled = True, impurity = False)"
      ],
      "metadata": {
        "id": "msLhwsIllmua",
        "colab": {
          "base_uri": "https://localhost:8080/",
          "height": 413
        },
        "outputId": "9fef1bab-a787-47d6-d44e-bd299740072c"
      },
      "execution_count": null,
      "outputs": [
        {
          "output_type": "display_data",
          "data": {
            "text/plain": [
              "<Figure size 2520x720 with 1 Axes>"
            ],
            "image/png": "[encoded data removed]"
          },
          "metadata": {
            "needs_background": "light"
          }
        }
      ]
    },
    {
      "cell_type": "code",
      "source": [
        "print('Níveis ou profundidade', dtree.get_depth())"
      ],
      "metadata": {
        "id": "z_vS2iXgo21b",
        "colab": {
          "base_uri": "https://localhost:8080/"
        },
        "outputId": "f32db16f-7f59-4dba-9ea5-dde847c7ee33"
      },
      "execution_count": null,
      "outputs": [
        {
          "output_type": "stream",
          "name": "stdout",
          "text": [
            "Níveis ou profundidade 5\n"
          ]
        }
      ]
    },
    {
      "cell_type": "code",
      "source": [
        "dtree.feature_importances_"
      ],
      "metadata": {
        "id": "uZren6hubBN_",
        "colab": {
          "base_uri": "https://localhost:8080/"
        },
        "outputId": "ad86547a-a137-403f-b3f9-32e6be64b097"
      },
      "execution_count": null,
      "outputs": [
        {
          "output_type": "execute_result",
          "data": {
            "text/plain": [
              "array([0.        , 0.0334658 , 0.06142814, 0.90510606])"
            ]
          },
          "metadata": {},
          "execution_count": 55
        }
      ]
    },
    {
      "cell_type": "markdown",
      "source": [
        "###Exercício"
      ],
      "metadata": {
        "id": "XdxEUsd95fwV"
      }
    },
    {
      "cell_type": "markdown",
      "source": [
        "Realizar download do conjunto de dados [Mobile Price Classification](https://drive.google.com/file/d/1uCps0JVzGhwuxU6JPLEJmLvlcVNH2ykW/view?usp=sharing)\n",
        "\n",
        "Importar as bibliotecas necessárias\n",
        "\n",
        "Realizar a análise exploratória dos dados e aplicar técnicas de pré-processamento se necessárias\n",
        "\n",
        "Testar os métodos de classificação. \n",
        "\n",
        "*Feature (price_range) define a faixa de preço do celular.*\n"
      ],
      "metadata": {
        "id": "mnaKV7Qs5iZc"
      }
    },
    {
      "cell_type": "code",
      "source": [
        "## Digite seu código aqui\n"
      ],
      "metadata": {
        "id": "C5HOSH8-nL1T"
      },
      "execution_count": null,
      "outputs": []
    }
  ]
}