{
  "nbformat": 4,
  "nbformat_minor": 0,
  "metadata": {
    "colab": {
      "provenance": [],
      "collapsed_sections": [],
      "include_colab_link": true
    },
    "kernelspec": {
      "name": "python3",
      "display_name": "Python 3"
    },
    "language_info": {
      "name": "python"
    }
  },
  "cells": [
    {
      "cell_type": "markdown",
      "metadata": {
        "id": "view-in-github",
        "colab_type": "text"
      },
      "source": [
        "<a href=\"https://colab.research.google.com/github/jessykappm/Machine-Learning/blob/main/Perceptron.ipynb\" target=\"_parent\"><img src=\"https://colab.research.google.com/assets/colab-badge.svg\" alt=\"Open In Colab\"/></a>"
      ]
    },
    {
      "cell_type": "code",
      "metadata": {
        "colab": {
          "base_uri": "https://localhost:8080/"
        },
        "id": "-NYNF9NouHK8",
        "outputId": "2f11b5b2-a6ef-44cf-f52d-02f09f4e14a0"
      },
      "source": [
        "from sklearn.datasets import load_digits\n",
        "digits = load_digits()\n",
        "print(digits.data.shape)\n"
      ],
      "execution_count": null,
      "outputs": [
        {
          "output_type": "stream",
          "name": "stdout",
          "text": [
            "(1797, 64)\n"
          ]
        }
      ]
    },
    {
      "cell_type": "code",
      "metadata": {
        "colab": {
          "base_uri": "https://localhost:8080/",
          "height": 275
        },
        "id": "gqhhJhmMuPOc",
        "outputId": "28cf02a7-2eea-461e-9d0c-b6157fbd4147"
      },
      "source": [
        "import matplotlib.pyplot as plt\n",
        "#plt.gray()\n",
        "plt.matshow(digits.images[652])\n",
        "plt.show()\n"
      ],
      "execution_count": null,
      "outputs": [
        {
          "output_type": "display_data",
          "data": {
            "text/plain": [
              "<Figure size 288x288 with 1 Axes>"
            ],
            "image/png": "[encoded data removed]"
          },
          "metadata": {
            "needs_background": "light"
          }
        }
      ]
    },
    {
      "cell_type": "code",
      "source": [
        "from sklearn.linear_model import Perceptron\n",
        "\n",
        "X, y = load_digits(return_X_y=True)"
      ],
      "metadata": {
        "id": "Wh23RShBsM6H"
      },
      "execution_count": null,
      "outputs": []
    },
    {
      "cell_type": "code",
      "source": [
        "plt.matshow(digits.images[1200])\n",
        "plt.show()"
      ],
      "metadata": {
        "colab": {
          "base_uri": "https://localhost:8080/",
          "height": 275
        },
        "id": "BPshDroxsVhj",
        "outputId": "8c725a0b-b15a-4042-f1ae-5e169d25995b"
      },
      "execution_count": null,
      "outputs": [
        {
          "output_type": "display_data",
          "data": {
            "text/plain": [
              "<Figure size 288x288 with 1 Axes>"
            ],
            "image/png": "[encoded data removed]"
          },
          "metadata": {
            "needs_background": "light"
          }
        }
      ]
    },
    {
      "cell_type": "code",
      "source": [
        "y[1200]"
      ],
      "metadata": {
        "colab": {
          "base_uri": "https://localhost:8080/"
        },
        "id": "nIdB8mS2sN2k",
        "outputId": "e5454183-ca2b-4f36-d83b-ce9a24c81d9a"
      },
      "execution_count": null,
      "outputs": [
        {
          "output_type": "execute_result",
          "data": {
            "text/plain": [
              "7"
            ]
          },
          "metadata": {},
          "execution_count": 6
        }
      ]
    },
    {
      "cell_type": "code",
      "metadata": {
        "id": "-OSXI8z3uV1T"
      },
      "source": [
        "X_train, y_train = X[:1000],y[:1000]\n",
        "\n",
        "X_test, y_test = X[1000:],y[1000:]\n",
        "\n",
        "\n",
        "clf = Perceptron(tol=1e-3, random_state=0, verbose=False) # arquitetura da rede neural. Usa verbose true para ver a evolução do treinamento\n"
      ],
      "execution_count": null,
      "outputs": []
    },
    {
      "cell_type": "code",
      "source": [
        "clf = clf.fit(X_train, y_train) # model"
      ],
      "metadata": {
        "id": "v9BHN3z4tcdE"
      },
      "execution_count": null,
      "outputs": []
    },
    {
      "cell_type": "code",
      "source": [
        "clf.predict(X_test)[200:500]"
      ],
      "metadata": {
        "colab": {
          "base_uri": "https://localhost:8080/"
        },
        "id": "8ojdkTNEtoUz",
        "outputId": "339b57f8-9e32-4b30-eafe-79b8d1bd7124"
      },
      "execution_count": null,
      "outputs": [
        {
          "output_type": "execute_result",
          "data": {
            "text/plain": [
              "array([7, 7, 5, 5, 1, 0, 0, 2, 2, 7, 8, 2, 0, 1, 2, 6, 3, 3, 1, 3, 3, 4,\n",
              "       6, 6, 6, 4, 9, 1, 5, 5, 9, 5, 2, 8, 2, 0, 0, 1, 7, 6, 3, 2, 8, 7,\n",
              "       4, 6, 3, 1, 3, 9, 1, 7, 6, 8, 4, 3, 6, 4, 0, 5, 3, 6, 9, 6, 8, 7,\n",
              "       5, 4, 4, 7, 2, 8, 2, 2, 5, 7, 9, 5, 4, 1, 5, 4, 9, 7, 1, 9, 8, 0,\n",
              "       9, 2, 3, 4, 5, 6, 7, 8, 9, 0, 1, 2, 3, 6, 5, 6, 7, 8, 9, 0, 1, 2,\n",
              "       3, 4, 5, 6, 7, 8, 9, 0, 9, 5, 5, 6, 5, 0, 9, 8, 9, 8, 4, 1, 7, 7,\n",
              "       3, 5, 1, 0, 0, 2, 2, 7, 8, 2, 0, 1, 2, 6, 3, 3, 7, 3, 3, 6, 6, 6,\n",
              "       6, 4, 9, 1, 5, 0, 9, 6, 2, 8, 2, 0, 0, 1, 7, 6, 3, 2, 1, 7, 4, 6,\n",
              "       3, 1, 3, 9, 1, 7, 6, 8, 6, 3, 1, 4, 0, 5, 3, 6, 9, 6, 1, 7, 5, 4,\n",
              "       4, 7, 2, 8, 2, 2, 5, 7, 9, 5, 4, 8, 8, 4, 0, 0, 8, 0, 1, 2, 3, 4,\n",
              "       5, 6, 7, 8, 9, 0, 1, 2, 3, 4, 5, 6, 7, 8, 9, 0, 1, 2, 3, 4, 5, 6,\n",
              "       7, 8, 9, 0, 9, 5, 5, 6, 5, 0, 9, 8, 9, 8, 4, 1, 7, 7, 3, 5, 1, 0,\n",
              "       0, 2, 2, 7, 8, 2, 0, 9, 2, 6, 3, 3, 7, 3, 3, 4, 6, 6, 6, 4, 9, 9,\n",
              "       5, 0, 9, 5, 2, 8, 2, 0, 0, 9, 7, 6, 3, 2])"
            ]
          },
          "metadata": {},
          "execution_count": 11
        }
      ]
    },
    {
      "cell_type": "code",
      "source": [
        "clf.score(X_train,y_train)"
      ],
      "metadata": {
        "colab": {
          "base_uri": "https://localhost:8080/"
        },
        "id": "NiM0_GCMulNk",
        "outputId": "f5d2e640-8940-4a7c-890a-2908d83716f8"
      },
      "execution_count": null,
      "outputs": [
        {
          "output_type": "execute_result",
          "data": {
            "text/plain": [
              "0.987"
            ]
          },
          "metadata": {},
          "execution_count": 29
        }
      ]
    },
    {
      "cell_type": "code",
      "source": [
        "clf.score(X_test,y_test)"
      ],
      "metadata": {
        "colab": {
          "base_uri": "https://localhost:8080/"
        },
        "id": "ZMg0A9pUutu0",
        "outputId": "8dbd0183-3528-4939-c997-529ba2387afc"
      },
      "execution_count": null,
      "outputs": [
        {
          "output_type": "execute_result",
          "data": {
            "text/plain": [
              "0.917189460476788"
            ]
          },
          "metadata": {},
          "execution_count": 30
        }
      ]
    },
    {
      "cell_type": "code",
      "source": [
        "clf.predict(X_test)"
      ],
      "metadata": {
        "colab": {
          "base_uri": "https://localhost:8080/"
        },
        "id": "Ic9xjs8p4pH7",
        "outputId": "eec25912-58af-4c40-abf9-95219f978c1c"
      },
      "execution_count": null,
      "outputs": [
        {
          "output_type": "execute_result",
          "data": {
            "text/plain": [
              "array([1, 4, 0, 5, 3, 6, 9, 6, 1, 7, 5, 4, 4, 7, 2, 8, 2, 2, 5, 7, 9, 5,\n",
              "       4, 4, 9, 0, 8, 9, 8, 0, 1, 2, 3, 4, 5, 6, 7, 2, 9, 0, 1, 2, 3, 4,\n",
              "       5, 6, 7, 8, 9, 0, 1, 2, 3, 4, 5, 6, 7, 8, 9, 0, 9, 5, 5, 6, 5, 0,\n",
              "       9, 8, 9, 8, 4, 1, 7, 7, 3, 5, 1, 0, 0, 7, 8, 2, 0, 1, 2, 6, 3, 3,\n",
              "       7, 3, 3, 4, 6, 6, 6, 9, 9, 1, 5, 0, 9, 5, 2, 8, 2, 0, 0, 1, 7, 6,\n",
              "       3, 2, 1, 7, 4, 6, 3, 1, 8, 9, 1, 7, 6, 8, 4, 9, 1, 4, 0, 5, 3, 6,\n",
              "       9, 6, 1, 7, 5, 4, 4, 7, 2, 8, 2, 2, 5, 7, 9, 5, 4, 2, 8, 4, 9, 0,\n",
              "       8, 9, 8, 0, 1, 2, 3, 4, 5, 6, 7, 8, 9, 0, 1, 2, 3, 4, 5, 6, 7, 8,\n",
              "       9, 0, 8, 2, 3, 4, 5, 6, 7, 8, 9, 5, 9, 5, 5, 6, 5, 0, 9, 5, 9, 5,\n",
              "       4, 1, 7, 7, 5, 5, 1, 0, 0, 2, 2, 7, 8, 2, 0, 1, 2, 6, 3, 3, 1, 3,\n",
              "       3, 4, 6, 6, 6, 4, 9, 1, 5, 5, 9, 5, 2, 8, 2, 0, 0, 1, 7, 6, 3, 2,\n",
              "       8, 7, 4, 6, 3, 1, 3, 9, 1, 7, 6, 8, 4, 3, 6, 4, 0, 5, 3, 6, 9, 6,\n",
              "       8, 7, 5, 4, 4, 7, 2, 8, 2, 2, 5, 7, 9, 5, 4, 1, 5, 4, 9, 7, 1, 9,\n",
              "       8, 0, 9, 2, 3, 4, 5, 6, 7, 8, 9, 0, 1, 2, 3, 6, 5, 6, 7, 8, 9, 0,\n",
              "       1, 2, 3, 4, 5, 6, 7, 8, 9, 0, 9, 5, 5, 6, 5, 0, 9, 8, 9, 8, 4, 1,\n",
              "       7, 7, 3, 5, 1, 0, 0, 2, 2, 7, 8, 2, 0, 1, 2, 6, 3, 3, 7, 3, 3, 6,\n",
              "       6, 6, 6, 4, 9, 1, 5, 0, 9, 6, 2, 8, 2, 0, 0, 1, 7, 6, 3, 2, 1, 7,\n",
              "       4, 6, 3, 1, 3, 9, 1, 7, 6, 8, 6, 3, 1, 4, 0, 5, 3, 6, 9, 6, 1, 7,\n",
              "       5, 4, 4, 7, 2, 8, 2, 2, 5, 7, 9, 5, 4, 8, 8, 4, 0, 0, 8, 0, 1, 2,\n",
              "       3, 4, 5, 6, 7, 8, 9, 0, 1, 2, 3, 4, 5, 6, 7, 8, 9, 0, 1, 2, 3, 4,\n",
              "       5, 6, 7, 8, 9, 0, 9, 5, 5, 6, 5, 0, 9, 8, 9, 8, 4, 1, 7, 7, 3, 5,\n",
              "       1, 0, 0, 2, 2, 7, 8, 2, 0, 9, 2, 6, 3, 3, 7, 3, 3, 4, 6, 6, 6, 4,\n",
              "       9, 9, 5, 0, 9, 5, 2, 8, 2, 0, 0, 9, 7, 6, 3, 2, 3, 7, 4, 6, 3, 1,\n",
              "       3, 9, 1, 7, 6, 8, 4, 3, 9, 4, 0, 5, 3, 6, 9, 6, 9, 7, 5, 4, 4, 7,\n",
              "       2, 8, 2, 2, 5, 7, 9, 5, 4, 8, 8, 4, 9, 0, 8, 9, 8, 0, 1, 2, 3, 4,\n",
              "       5, 6, 8, 1, 9, 0, 1, 2, 3, 4, 5, 6, 9, 0, 4, 2, 3, 4, 5, 6, 7, 1,\n",
              "       7, 4, 9, 5, 5, 6, 5, 0, 8, 8, 5, 8, 4, 1, 7, 7, 1, 5, 1, 6, 0, 2,\n",
              "       2, 4, 8, 2, 6, 1, 2, 6, 8, 7, 7, 7, 8, 4, 6, 6, 6, 1, 9, 1, 5, 6,\n",
              "       9, 5, 2, 8, 0, 1, 7, 6, 3, 2, 1, 7, 1, 6, 3, 1, 3, 9, 1, 9, 6, 8,\n",
              "       4, 3, 1, 4, 0, 5, 3, 6, 3, 6, 1, 7, 5, 4, 4, 7, 2, 2, 5, 7, 1, 5,\n",
              "       8, 4, 5, 0, 8, 8, 8, 0, 1, 2, 3, 4, 5, 6, 7, 8, 9, 0, 1, 2, 8, 4,\n",
              "       5, 6, 7, 8, 9, 0, 1, 2, 5, 4, 5, 6, 7, 8, 9, 0, 9, 5, 5, 6, 5, 0,\n",
              "       9, 8, 9, 8, 4, 1, 7, 7, 7, 5, 1, 0, 0, 2, 2, 7, 8, 2, 0, 1, 2, 6,\n",
              "       8, 8, 7, 5, 8, 4, 6, 6, 6, 4, 9, 1, 5, 0, 9, 5, 2, 8, 2, 0, 0, 4,\n",
              "       7, 6, 3, 2, 1, 7, 4, 6, 3, 1, 3, 9, 1, 7, 6, 8, 4, 5, 1, 4, 0, 5,\n",
              "       3, 6, 9, 6, 1, 7, 5, 4, 4, 7, 2, 5, 2, 2, 5, 7, 9, 5, 4, 8, 8, 4,\n",
              "       9, 0, 8, 9, 8])"
            ]
          },
          "metadata": {},
          "execution_count": 31
        }
      ]
    },
    {
      "cell_type": "code",
      "source": [
        "clf.n_iter_"
      ],
      "metadata": {
        "colab": {
          "base_uri": "https://localhost:8080/"
        },
        "id": "y6og68__SlcT",
        "outputId": "02a27a26-bb23-4ab8-93b7-af22d3d136fd"
      },
      "execution_count": null,
      "outputs": [
        {
          "output_type": "execute_result",
          "data": {
            "text/plain": [
              "25"
            ]
          },
          "metadata": {},
          "execution_count": 37
        }
      ]
    },
    {
      "cell_type": "code",
      "source": [
        "clf.classes_"
      ],
      "metadata": {
        "colab": {
          "base_uri": "https://localhost:8080/"
        },
        "id": "mLCOyaknzQ8K",
        "outputId": "0b801da5-29ee-43bb-94a0-e07917f61138"
      },
      "execution_count": null,
      "outputs": [
        {
          "output_type": "execute_result",
          "data": {
            "text/plain": [
              "array([0, 1, 2, 3, 4, 5, 6, 7, 8, 9])"
            ]
          },
          "metadata": {},
          "execution_count": 38
        }
      ]
    },
    {
      "cell_type": "code",
      "source": [
        "clf.coef_"
      ],
      "metadata": {
        "colab": {
          "base_uri": "https://localhost:8080/"
        },
        "id": "ftE6Yw2ZrBcd",
        "outputId": "d9a647c1-44d9-4825-a061-e1fd22fe1cd1"
      },
      "execution_count": null,
      "outputs": [
        {
          "output_type": "execute_result",
          "data": {
            "text/plain": [
              "array([[   0.,  -12.,  -33.,  -21.,  -34.,  -90.,  -44.,  -12.,    0.,\n",
              "         -23.,    6.,    6.,   21.,   43.,  -24.,   -7.,    0.,   -8.,\n",
              "          38.,    1.,  -49.,   62.,   11.,   -1.,    0.,    9.,   12.,\n",
              "         -94., -133.,  -23.,   46.,    0.,    0.,   31.,   33.,  -94.,\n",
              "        -108.,  -31.,   46.,    0.,    0.,    6.,   65.,  -79.,  -66.,\n",
              "           9.,    0.,    0.,    0.,  -17.,   32.,   -3.,   13.,   20.,\n",
              "         -20.,    0.,    0.,  -14.,  -49.,  -22.,   -5.,  -72.,  -22.,\n",
              "           0.],\n",
              "       [   0.,  -77.,  -18.,   93., -302.,  158.,  -95.,  -14.,    0.,\n",
              "        -263., -273., -330., -133.,  120., -164.,   -2.,    0.,  -69.,\n",
              "         -39.,  320.,  163., -116.,  -49.,   -4.,    0.,  -27.,  167.,\n",
              "         256.,   21.,   82., -223.,    0.,    0.,  -43.,  -61., -136.,\n",
              "         146., -118., -184.,    0.,    0., -264.,  -80.,    3.,  -71.,\n",
              "        -177., -145.,   -1.,    0.,  -64.,  -60.,  160.,  138.,   44.,\n",
              "        -119.,   95.,    0.,  -83., -153.,   40.,  -33.,  124., -120.,\n",
              "         133.],\n",
              "       [   0.,   14.,   -7.,  -15.,  -18.,  -31.,  -14.,   -2.,    0.,\n",
              "          46.,   15.,  -38.,   23.,  -40.,   25.,   -2.,    0.,   17.,\n",
              "          20.,  -60.,   76.,    7.,   29.,    0.,    0.,  -48., -135.,\n",
              "        -162.,   -7.,   42.,  -33.,    0.,    0.,  -42., -136.,  -75.,\n",
              "         -29., -100.,  -78.,    0.,    0.,   22.,   37.,  125., -109.,\n",
              "        -208.,  -90.,    0.,    3.,   59.,   17.,  108.,   52.,   80.,\n",
              "          11.,  -17.,    1.,   19.,   15.,  -11.,   -8.,   73.,   69.,\n",
              "         -32.],\n",
              "       [   0.,   36.,  -42.,    0.,  146.,  -19.,  -12.,   -1.,    0.,\n",
              "        -106.,    7.,  -77.,   65.,    7.,   73.,    0.,    0.,   43.,\n",
              "        -145., -157.,   61., -118.,  -16.,    0.,    0.,  -38., -231.,\n",
              "        -106.,   34., -138., -116.,    0.,    0.,  -34., -163.,  -84.,\n",
              "         182.,   22.,   13.,    0.,    0.,   -1.,  -67., -353.,  -49.,\n",
              "         165.,  165.,    0.,    0.,   28.,   91.,  -23.,  -15.,   23.,\n",
              "          28.,  -44.,    0.,   45.,   39.,  -55.,    4.,    9.,  -52.,\n",
              "        -136.],\n",
              "       [   0.,    0.,  -77.,  -63.,  -38.,  -91.,  -67.,    4.,    0.,\n",
              "          -4.,  -99.,  -19.,  -66.,  -81.,  -40.,  -11.,    0.,   18.,\n",
              "          30.,   51.,    3.,   20.,    6.,   -1.,    1.,   38.,   78.,\n",
              "         -25.,  -11.,   58.,   93.,    2.,    0.,   75.,   93.,    3.,\n",
              "          18.,   45.,   64.,    0.,    3.,  105.,    9.,   69.,   68.,\n",
              "          17.,   -1.,    0.,    6.,   45., -111.,  -29.,    3.,  -95.,\n",
              "         -76.,    0.,   -1.,   -5., -101.,  -39.,  -53., -123.,  -24.,\n",
              "           0.],\n",
              "       [   0.,   11.,  126., -113.,   -7.,  138.,  145.,  -31.,    1.,\n",
              "           2.,   71.,  -18.,   25.,  -10.,  -76.,  -24.,    0.,  -26.,\n",
              "         126.,   83., -148., -235., -238.,   -8.,   -1.,   76.,   87.,\n",
              "          34.,   37.,  -31., -158.,    0.,    0.,    8.,   44.,  -24.,\n",
              "        -145.,    8.,   43.,    0.,    0.,  -35.,  -96.,  -84.,  -20.,\n",
              "          46.,   65.,    0.,    0.,   42.,  -63.,  -95.,   34.,  -62.,\n",
              "          -8.,   -7.,    0.,   16.,   85.,   27.,  -98.,  -81.,  -92.,\n",
              "         -41.],\n",
              "       [   0.,  -21., -123.,  -36.,  -63.,   46.,  -42.,    0.,    0.,\n",
              "        -114.,  -36.,  -37.,  -99.,  -73.,  -47.,    0.,    0.,  -56.,\n",
              "          70.,    7., -157., -248., -109.,    0.,    0.,   16.,   28.,\n",
              "          68.,  -37.,  -88., -125.,    0.,    0.,   19.,  123.,  113.,\n",
              "         -39.,   21.,  -26.,    0.,   -7., -140.,  194.,  -24.,  -53.,\n",
              "          36.,   93.,    0.,   -1.,  -63.,   44.,   91.,  -54.,   51.,\n",
              "           4.,  -48.,    0.,  -20., -146.,  -95.,  -46.,  108.,  -55.,\n",
              "         -36.],\n",
              "       [   0.,  -89.,    1.,  -16.,  -21.,  132.,   90.,   54.,    0.,\n",
              "         -66.,   44.,   46.,  273.,  -12.,  -49.,   75.,    0.,  -65.,\n",
              "        -147., -153.,   -1.,   41.,   56.,    8.,    0., -197.,   -7.,\n",
              "        -168.,  -53.,   26.,   72.,   -4.,    0.,  -12.,   -3.,   -5.,\n",
              "         -40.,   80.,  147.,    0.,   -2.,  -68.,  -51.,   34.,  110.,\n",
              "          98.,   -3.,    0.,    0.,  -28., -107.,  126., -184., -310.,\n",
              "         -38.,    0.,    0.,  -90.,  -30.,  -44., -149., -204.,  -23.,\n",
              "           0.],\n",
              "       [   0.,   -8., -113., -211.,  -93., -105., -182.,  -18.,    0.,\n",
              "         -67.,  121.,  -12., -106.,   60.,   40.,   -5.,    0.,  131.,\n",
              "         109.,   64., -108.,  210.,   23.,   -2.,    0.,  -38.,  -55.,\n",
              "         205.,   -2.,   10., -222.,   -1.,    0., -213., -104.,  253.,\n",
              "         -30., -253., -242.,    0.,    0.,   -8.,  112.,   15.,   45.,\n",
              "         134.,  -84.,   -3.,    0., -113.,   21., -182., -186.,   63.,\n",
              "         -25.,  -16.,    0.,  -16., -262.,   76.,   60., -152., -166.,\n",
              "         -24.],\n",
              "       [   0.,  -53., -108.,   41., -163., -125., -103., -103.,    0.,\n",
              "          82.,   41.,   43.,  -73.,   36.,  101.,  -14.,    0.,  155.,\n",
              "         162.,  -28.,   45.,  310.,   94.,   -8.,    0.,  -37.,   -9.,\n",
              "         135.,   43.,  295.,  -74.,   -6.,    0., -158., -103.,  210.,\n",
              "        -229.,  -60.,  -63.,    0.,    0.,   12., -402., -348., -226.,\n",
              "        -182., -154.,    0.,    0.,   83.,  -52.,  -54.,  -57.,  -50.,\n",
              "          27.,    3.,    0.,  -39.,   -7.,  -98.,  -55.,  -17.,  -34.,\n",
              "         -45.]])"
            ]
          },
          "metadata": {},
          "execution_count": 41
        }
      ]
    },
    {
      "cell_type": "code",
      "source": [
        "clf.intercept_"
      ],
      "metadata": {
        "colab": {
          "base_uri": "https://localhost:8080/"
        },
        "id": "ySglQXoWriSG",
        "outputId": "9077cdce-38ba-4639-809a-244cc23cb676"
      },
      "execution_count": null,
      "outputs": [
        {
          "output_type": "execute_result",
          "data": {
            "text/plain": [
              "array([ -3., -67.,  -4.,  -4.,  -2.,  -8., -11.,  -4., -37., -17.])"
            ]
          },
          "metadata": {},
          "execution_count": 42
        }
      ]
    },
    {
      "cell_type": "code",
      "source": [
        "clf.loss_function_"
      ],
      "metadata": {
        "colab": {
          "base_uri": "https://localhost:8080/"
        },
        "id": "7apreJtzs_M-",
        "outputId": "36ac7729-bf36-44cc-c8f3-3955bf31eccb"
      },
      "execution_count": null,
      "outputs": [
        {
          "output_type": "execute_result",
          "data": {
            "text/plain": [
              "<sklearn.linear_model._sgd_fast.Hinge at 0x7fd828d09310>"
            ]
          },
          "metadata": {},
          "execution_count": 43
        }
      ]
    },
    {
      "cell_type": "code",
      "source": [
        "clf.n_features_in_"
      ],
      "metadata": {
        "colab": {
          "base_uri": "https://localhost:8080/"
        },
        "id": "YNfn3qMYtq2b",
        "outputId": "540549d0-826b-4865-a8b0-f5305e86999f"
      },
      "execution_count": null,
      "outputs": [
        {
          "output_type": "execute_result",
          "data": {
            "text/plain": [
              "64"
            ]
          },
          "metadata": {},
          "execution_count": 44
        }
      ]
    },
    {
      "cell_type": "code",
      "source": [
        "clf.t_"
      ],
      "metadata": {
        "colab": {
          "base_uri": "https://localhost:8080/"
        },
        "id": "g_VmjMK-t7s1",
        "outputId": "aa19f035-6079-4705-8e67-4215876cecde"
      },
      "execution_count": null,
      "outputs": [
        {
          "output_type": "execute_result",
          "data": {
            "text/plain": [
              "25001.0"
            ]
          },
          "metadata": {},
          "execution_count": 46
        }
      ]
    }
  ]
}